{
 "cells": [
  {
   "attachments": {},
   "cell_type": "markdown",
   "metadata": {},
   "source": [
    "# 1 - Dependencies management\n",
    "\n",
    "***git branch name:*** dependencies\n",
    "\n",
    "## Theory [2]\n",
    "\n",
    "As usual, we will start with a few theoretical questions:\n",
    "\n",
    "* [0.5] What is Docker, and how it differs from dependencies management systems? From virtual machines?\n",
    "* [0.5] What are the advantages and disadvantages of using containers over other approaches?\n",
    "* [0.5] Explain how Docker works: what are Dockerfiles, how are containers created, and how are they run and destroyed?\n",
    "* [0.25] Name and describe at least one Docker competitor (i.e., a tool based on the same containerization technology).\n",
    "* [0.25] What is conda? How it differs from apt, yarn, and others?\n",
    "\n",
    "## Problem [6.5]\n",
    "\n",
    "The problem itself is relatively simple. \n",
    "\n",
    "Imagine that you developed an excellent RNA-seq analysis pipeline and want to share it with the world. Based on your experience, you are confident that the popularity of the pipeline will be proportional to its ease of use. So, you decided to help your future users and to pack all dependencies in a Conda environment and a Docker container.\n",
    "\n",
    "Here is the list of tools and their versions that are used in your work:\n",
    "* [fastqc](https://www.bioinformatics.babraham.ac.uk/projects/fastqc/), v0.11.9\n",
    "* [STAR](https://github.com/alexdobin/STAR), v2.7.10b\n",
    "* [samtools](https://github.com/samtools/samtools), v1.16.1\n",
    "* [picard](https://github.com/broadinstitute/picard), v2.27.5\n",
    "* [salmon](https://github.com/COMBINE-lab/salmon), commit tag 1.9.0\n",
    "* [bedtools](https://github.com/arq5x/bedtools2), v2.30.0\n",
    "* [multiqc](https://github.com/ewels/MultiQC), v1.13\n"
   ]
  },
  {
   "cell_type": "code",
   "execution_count": 1,
   "metadata": {},
   "outputs": [],
   "source": [
    "#Conda"
   ]
  },
  {
   "attachments": {},
   "cell_type": "markdown",
   "metadata": {},
   "source": [
    "## Теория [2]\n",
    "\n",
    "Как обычно, мы начнем с нескольких теоретических вопросов:\n",
    "\n",
    "* [0.5] Что такое Docker и чем он отличается от систем управления зависимостями? С виртуальных машин?\n",
    "\n",
    "Docker - это платформа с открытым исходным кодом для создания, развертывания контейнерных приложений и управления ими.\n",
    "\n",
    "Docker отличается от других систем управления зависимостями своей гибкостью и безопасностью. Кроме того, этот облачный сервер предоставляет множество бесплатных приложений, а также множество публичных и частных реестров с официальными репозиториями от ведущих сторонних поставщиков — от Nginx и Ubuntu до MongoDB и Redis.\n",
    "\n",
    "Docker разработан таким образом, чтобы быть легким и простым. Он имеет хороший уровень безопасности 760 и очень популярен в использовании, поэтому, если вы обнаружите ошибку, вероятность того, что вы найдете решение онлайн, составляет 99%.\n",
    "\n",
    "В то время как для каждой рабочей нагрузки на виртуальной машине (VM) требуется полноценная ОС или гипервизор, многие рабочие нагрузки могут выполняться на одной ОС при использовании Docker.\n",
    "\n",
    "Контейнеры Docker имеют быстрое время запуска и сокращают время загрузки. Запуск виртуальных машин занимает некоторое время и имеет ужасную производительность. Поскольку контейнеры Docker меньше виртуальных машин, перемещать файлы в файловую систему хоста проще.\n",
    "\n",
    "Из-за того, что ОС запущена, приложения Docker containers запускаются немедленно. Виртуальные машины должны запускать полноценную операционную систему для установки одной программы, для чего требуется полный процесс загрузки.\n",
    "* [0.5]  Каковы преимущества и недостатки использования контейнеров по сравнению с другими подходами?\n",
    "\n",
    "Преимущества контейнеров.\n",
    "\n",
    "Контейнеры - это упрощенный способ создания, тестирования, развертывания и повторного развертывания приложений в нескольких средах: от локального ноутбука разработчика до локального центра обработки данных и даже облака. Преимущества контейнеров включают в себя:\n",
    "\n",
    "* Меньше накладных расходов*\n",
    "\n",
    "Контейнеры требуют меньше системных ресурсов, чем традиционные или аппаратные среды виртуальных машин, поскольку они не включают образы операционной системы.\n",
    "\n",
    "* Повышенная мобильность*\n",
    "\n",
    "Приложения, работающие в контейнерах, могут быть легко развернуты на нескольких различных операционных системах и аппаратных платформах.\n",
    "\n",
    "\n",
    "*Более последовательная работа*\n",
    "\n",
    "Команды DevOps знают, что приложения в контейнерах будут работать одинаково, независимо от того, где они развернуты.\n",
    "\n",
    "*Повышение эффективности*\n",
    "\n",
    "Контейнеры позволяют быстрее развертывать, исправлять или масштабировать приложения.\n",
    "\n",
    "*Улучшенная разработка приложений*\n",
    "\n",
    "Контейнеры поддерживают усилия agile и DevOps по ускорению циклов разработки, тестирования и производства.\n",
    "\n",
    "Контейнеры против виртуальных машин (VMS)\n",
    "Люди иногда путают контейнерную технологию с виртуальными машинами (VMS) или технологией виртуализации серверов. Несмотря на некоторые основные сходства, контейнеры сильно отличаются от виртуальных машин.\n",
    "\n",
    "Виртуальные машины выполняются в среде гипервизора, где каждая виртуальная машина должна включать в себя свою собственную гостевую операционную систему, а также связанные с ней двоичные файлы, библиотеки и файлы приложений. Это потребляет большое количество системных ресурсов и накладных расходов, особенно когда на одном физическом сервере запущено несколько виртуальных машин, каждая со своей собственной гостевой ОС.\n",
    "\n",
    "Напротив, каждый контейнер использует одну и ту же ОС хоста или системное ядро и имеет гораздо меньший размер, часто всего мегабайт. Это часто означает, что запуск контейнера может занять всего несколько секунд (по сравнению с гигабайтами и минутами, необходимыми для обычной виртуальной машины).\n",
    "\n",
    "* [0.5] Объясните, как работает Docker: что такое Dockerfiles, как создаются контейнеры и как они запускаются и уничтожаются?\n",
    "\n",
    "Докерфайл\n",
    "\n",
    "Dockerfile - это текстовый документ, содержащий все команды, которые пользователь может вызвать в командной строке для сборки изображения.\n",
    "\n",
    "Создайте каталог для хранения всех образов Docker, которые будут созданы"
   ]
  },
  {
   "attachments": {},
   "cell_type": "markdown",
   "metadata": {},
   "source": [
    "## Anaconda"
   ]
  },
  {
   "cell_type": "code",
   "execution_count": null,
   "metadata": {},
   "outputs": [],
   "source": [
    "##Install conda\n",
    "%%bash\n",
    "MINICONDA_INSTALLER_SCRIPT=Miniconda3-4.5.4-Linux-x86_64.sh\n",
    "MINICONDA_PREFIX=/usr/local\n",
    "wget https://repo.continuum.io/miniconda/$MINICONDA_INSTALLER_SCRIPT\n",
    "chmod +x $MINICONDA_INSTALLER_SCRIPT\n",
    "./$MINICONDA_INSTALLER_SCRIPT -b -f -p $MINICONDA_PREFIX\n",
    "\n",
    "conda install --channel defaults conda python=3.9 --yes\n",
    "conda update --channel defaults --all --yes\n",
    "conda update -n base -c defaults conda\n",
    "conda config --add channels defaults\n",
    "conda config --add channels bioconda\n",
    "conda config --add channels conda-forge\n",
    "conda config --set channel_priority strict\n",
    "\n",
    "conda create --name hw_env python=3.9\n",
    "conda activate hw_env"
   ]
  },
  {
   "cell_type": "code",
   "execution_count": null,
   "metadata": {},
   "outputs": [],
   "source": [
    "%%bash\n",
    "git clone -b 2.27.5 https://github.com/broadinstitute/picard.git\n",
    "cd picard\n",
    "./gradlew shadowJar\n",
    "java -jar build/libs/picard.jar\n",
    "./gradlew clean "
   ]
  },
  {
   "cell_type": "code",
   "execution_count": null,
   "metadata": {},
   "outputs": [],
   "source": [
    "!pip install multiqc"
   ]
  },
  {
   "cell_type": "code",
   "execution_count": null,
   "metadata": {},
   "outputs": [],
   "source": [
    "%%bash\n",
    "conda install -y star=2.7.10b  \n",
    "conda install -y samtools=1.16.1 \n",
    "conda install -y bedtools=2.30.0 \n",
    "conda install -y salmon=1.9.0\n",
    "conda install -y fastqc=0.11.9\n",
    "\n",
    "!conda env export > hw_env.yml  "
   ]
  },
  {
   "attachments": {},
   "cell_type": "markdown",
   "metadata": {},
   "source": [
    "## Docker"
   ]
  },
  {
   "cell_type": "code",
   "execution_count": null,
   "metadata": {},
   "outputs": [],
   "source": [
    "FROM ubuntu:18.04\n",
    "RUN useradd --create-home --shell /bin/bash app_user\n",
    "WORKDIR /home/app_user\n",
    "USER root\n",
    "RUN \tapt update\t&& \\\n",
    "\tapt-get update \t&& \\\n",
    "\tapt-get install -y wget && \t\\\n",
    "\tapt-get install -y make &&\t\\\n",
    "\tapt install -y openjdk-11-jdk &&\\\n",
    "\tapt-get install -y unzip &&\t\\\n",
    "\tapt-get install -y git \t&&\t\\\n",
    "\tapt-get install -y python3-pip\n",
    "\n",
    "#salmon v.1.9.0\t\n",
    "RUN   wget https://github.com/COMBINE-lab/salmon/releases/download/v1.9.0/salmon-1.9.0_linux_x86_64.tar.gz \n",
    "RUN   tar -zxvf salmon-1.9.0_linux_x86_64.tar.gz && rm salmon-1.9.0_linux_x86_64.tar.gz \n",
    "RUN   chmod a+x salmon-1.9.0_linux_x86_64/bin/salmon && \\\n",
    "      mv salmon-1.9.0_linux_x86_64/bin/salmon /bin/salmon && \\\n",
    "      rm -r salmon-1.9.0_linux_x86_64 \n",
    "\n",
    "RUN pip3 install --upgrade pip    \n",
    "RUN pip3 install multiqc==1.13\n",
    "\n",
    "#install samtools rdy\n",
    "RUN \tgit clone -b 1.16.1 https://github.com/samtools/samtools.git\n",
    "RUN\t  mv samtools/misc samtools_tools && rm -R samtools \n",
    "RUN\t  echo 'alias samtools=\"/samtools_tools/samtools.pl\"' >> /.bashrc\n",
    "RUN\t  echo \"samtools installed\"\n",
    "\n",
    "# install fastqc rdy\n",
    "RUN  \techo 'FastQC installation process begin'\n",
    "RUN  \techo 'FastQC need java to run. So make sure u have it'\n",
    "RUN\t  wget https://www.bioinformatics.babraham.ac.uk/projects/fastqc/fastqc_v0.11.9.zip\n",
    "RUN  \tunzip fastqc_v0.11.9.zip && rm fastqc_v0.11.9.zip \n",
    "RUN   chmod a+x FastQC/fastqc\n",
    "RUN   echo 'alias fastqc=\"/FastQC/fastqc\"' >> /.bashrc\n",
    "RUN  \techo 'U can run it now with \"fastqc\" cmd in terminal'\n",
    "\n",
    "#picard rdy\n",
    "RUN\t  git clone -b 2.27.5 https://github.com/broadinstitute/picard.git\n",
    "RUN\t  cd picard/ && ./gradlew shadowJar\n",
    "RUN\t  echo 'alias picard=\"java -jar ./picard/bin/picard.jar\"' >> /.bashrc\n",
    "\n",
    "#gradle done\n",
    "RUN \twget https://services.gradle.org/distributions/gradle-7.6-bin.zip\n",
    "RUN\t  mkdir /opt/gradle && unzip -d /opt/gradle gradle-7.6-bin.zip &&\\\n",
    "\t    rm gradle-7.6-bin.zip\n",
    "RUN\t  export PATH=$PATH:/opt/gradle/gradle-7.6/bin\n",
    "\n",
    "    \n",
    "#STAR v.2.7.10b\n",
    "RUN   wget https://github.com/alexdobin/STAR/releases/download/2.7.10b/STAR_2.7.10b.zip\n",
    "RUN   unzip STAR_2.7.10b.zip && rm STAR_2.7.10b.zip \n",
    "RUN   chmod a+x STAR_2.7.10b/Linux_x86_64_static/STAR\n",
    "RUN   mv STAR_2.7.10b/Linux_x86_64_static/STAR /bin/STAR && \\\n",
    "      rm -r STAR_2.7.10b\n",
    "\n",
    "\n"
   ]
  }
 ],
 "metadata": {
  "kernelspec": {
   "display_name": "Python 3",
   "language": "python",
   "name": "python3"
  },
  "language_info": {
   "codemirror_mode": {
    "name": "ipython",
    "version": 3
   },
   "file_extension": ".py",
   "mimetype": "text/x-python",
   "name": "python",
   "nbconvert_exporter": "python",
   "pygments_lexer": "ipython3",
   "version": "3.10.8"
  },
  "orig_nbformat": 4,
  "vscode": {
   "interpreter": {
    "hash": "e7370f93d1d0cde622a1f8e1c04877d8463912d04d973331ad4851f04de6915a"
   }
  }
 },
 "nbformat": 4,
 "nbformat_minor": 2
}
